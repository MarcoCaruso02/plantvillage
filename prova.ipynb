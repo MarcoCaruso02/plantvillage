{
  "nbformat": 4,
  "nbformat_minor": 0,
  "metadata": {
    "colab": {
      "provenance": []
    },
    "kernelspec": {
      "name": "python3",
      "display_name": "Python 3"
    },
    "language_info": {
      "name": "python"
    }
  },
  "cells": [
    {
      "cell_type": "markdown",
      "source": [
        "#**FEATURE EXTRACTION**"
      ],
      "metadata": {
        "id": "fgkGIhFGOINj"
      }
    },
    {
      "cell_type": "markdown",
      "source": [
        "#Appunti dal tutoring con Bria\n",
        "https://scikit-image.org/\n",
        "* LBP\n",
        "  * LBP lavora solo su immagini in scala di grigi\n",
        "    * Avendo lavorato in HS bisogna convertire l'immagine in scala di grigi prima di usare LBP\n",
        "  * Alta sensibilità al rumore\n",
        "* Su forma e contorno nulla perchè sono eterogenee\n",
        "* GLCM\n",
        "  * Potrebbe non fare al caso nostro\n",
        "  * Beneficerebbe del de-noising\n",
        "* Feature di  Gabor\n",
        "  * L'idea è usare una rete neurale pre-addestrata come AlexNet e usare le uscite dei primi 48 filtri convoluzionali come surrogato per le Gabor-like features. Le prime convoluzioni catturano bordi, orientamenti e texture simili alle wavelet di Gabor.\n",
        "  https://paperswithcode.com/method/alexnet#:~:text=AlexNet%20is%20a%20classic%20convolutional,with%20Deep%20Convolutional%20Neural%20Networks\n",
        "  * https://stackoverflow.com/questions/20608458/gabor-feature-extraction\n",
        "  * Media sensibilità al rumore\n",
        "* Haar\n",
        "  * Le features di Haar sono utili per rilevare contrasti locali, ma generano uno spazio delle feature molto grande, quindi potrebbero essere computazionalmente troppo pesanti da usare\n",
        "  * Non sono sensibili al rumore\n",
        "\n",
        "* Pre-processing/De-noising\n",
        "  * Può non essere sempre ottimale\n",
        "  * Si può applicare un Non-Local Means (NLM) molto leggero, per ridurre il rumore senza compromettere la texture. Questo aiuta in particolare per GLCM o LBP\n",
        "\n"
      ],
      "metadata": {
        "id": "3aALNM_PyxDy"
      }
    },
    {
      "cell_type": "code",
      "execution_count": null,
      "metadata": {
        "id": "HQ375uwQyAXG"
      },
      "outputs": [],
      "source": [
        "import numpy as np\n",
        "#import matplot.lib as plt\n",
        "import os\n",
        "import tqdm\n",
        "import skimage as ski\n",
        "from skimage.io import imread\n",
        "from skimage.color import rgb2gray\n",
        "from skimage.color import rgb2hsv\n",
        "from skimage.feature import local_binary_pattern\n",
        "from skimage.transform import resize"
      ]
    },
    {
      "cell_type": "markdown",
      "source": [
        "https://scikit-image.org/docs/stable/user_guide/getting_started.html"
      ],
      "metadata": {
        "id": "854CfOrlTkZ_"
      }
    },
    {
      "cell_type": "markdown",
      "source": [
        "##**PARAMETERS**\n"
      ],
      "metadata": {
        "id": "9Y9tJfoqN8og"
      }
    },
    {
      "cell_type": "code",
      "source": [
        "from google.colab import drive\n",
        "drive.mount('/content/drive')\n",
        "base_directoty = \"/content/drive/MyDrive/Colab Notebooks/\""
      ],
      "metadata": {
        "colab": {
          "base_uri": "https://localhost:8080/"
        },
        "id": "OdchOoo_cLo1",
        "outputId": "1d90248d-745b-421a-db91-92d63292aea7"
      },
      "execution_count": null,
      "outputs": [
        {
          "output_type": "stream",
          "name": "stdout",
          "text": [
            "Drive already mounted at /content/drive; to attempt to forcibly remount, call drive.mount(\"/content/drive\", force_remount=True).\n"
          ]
        }
      ]
    },
    {
      "cell_type": "code",
      "source": [
        "#useful  parameters\n",
        "#folder_name=[]\n",
        "#for i in range(8):\n",
        "  #folder_name.append('/{}a/'.format(1))\n",
        "folder_name='1a/'\n",
        "\n",
        "#Early and Late blight excluded\n",
        "desease_name=['Bacterial_spot',\n",
        "              'healthy',\n",
        "              'Leaf_Mold',\n",
        "              'Septoria_leaf_spot',\n",
        "              'Spider_mites Two-spotted_spider_mite',\n",
        "              'Target_Spot',\n",
        "              'Tomato_mosaic_virus',\n",
        "              'Tomato_Yellow_Leaf_Curl_Virus']\n",
        "\n",
        "#dagli il path\n",
        "image_size=(256,256)\n",
        "de_noising=False\n",
        "\n",
        "#LBP Parameters\n",
        "radius=1\n",
        "n_points=8*radius\n",
        "method='uniform'"
      ],
      "metadata": {
        "id": "uccm5lzYN7Si"
      },
      "execution_count": null,
      "outputs": []
    },
    {
      "cell_type": "markdown",
      "source": [
        "Within scikit-image, images are represented as NumPy arrays, for example 2-D arrays for grayscale 2-D images."
      ],
      "metadata": {
        "id": "0291P_K2Uoxs"
      }
    },
    {
      "cell_type": "markdown",
      "source": [
        "Per estrarre le foto https://docs.python.org/3/library/os.html"
      ],
      "metadata": {
        "id": "sKiFz1cyVNXl"
      }
    },
    {
      "cell_type": "markdown",
      "source": [
        "**mancano delle cose perchè ho provato solamente su una cartella sul mio drivve**"
      ],
      "metadata": {
        "id": "CE1oB-9Ge5y4"
      }
    },
    {
      "cell_type": "code",
      "source": [
        "#for i in folder_name:\n",
        "new_folder_name=base_directoty+folder_name\n",
        "os.listdir(new_folder_name)\n",
        "print(os.listdir(new_folder_name))\n",
        "for filename in os.listdir(new_folder_name):\n",
        "  file_path=os.path.join(new_folder_name,filename)\n",
        "  try:\n",
        "    img=imread(file_path)\n",
        "    #funziona\n",
        "    #print('ciao')\n",
        "  except Exception as e:\n",
        "    print(f\"Errore con {file_path}: {e}\")"
      ],
      "metadata": {
        "colab": {
          "base_uri": "https://localhost:8080/"
        },
        "id": "XVaZd3LTUaos",
        "outputId": "41b49063-4042-4ae3-a51b-966915093074"
      },
      "execution_count": null,
      "outputs": [
        {
          "output_type": "stream",
          "name": "stdout",
          "text": [
            "['0.jpg', '3.jpg', '2.jpg', '1.jpg', '4.jpg', '5.jpg', '8.jpg', '6.jpg', '7.jpg', '11.jpg', '10.jpg', '9.jpg', '12.jpg', '13.jpg', '15.jpg', '14.jpg', '16.jpg', '18.jpg', '17.jpg', '19.jpg', '20.jpg', '21.jpg', '23.jpg', '22.jpg', '24.jpg', '25.jpg', '26.jpg', '27.jpg', '28.jpg', '29.jpg', '31.jpg', '30.jpg', '32.jpg', '33.jpg', '34.jpg', '35.jpg', '36.jpg', '39.jpg', '37.jpg', '38.jpg', '42.jpg', '40.jpg', '41.jpg', '43.jpg', '44.jpg', '45.jpg', '46.jpg', '48.jpg', '47.jpg', '50.jpg', '49.jpg', '54.jpg', '52.jpg', '53.jpg', '51.jpg', '56.jpg', '55.jpg', '57.jpg', '58.jpg', '59.jpg', '61.jpg', '62.jpg', '60.jpg', '63.jpg', '65.jpg', '64.jpg', '69.jpg', '66.jpg', '68.jpg', '67.jpg', '70.jpg', '71.jpg', '72.jpg', '74.jpg', '73.jpg', '76.jpg', '75.jpg', '77.jpg', '79.jpg', '78.jpg', '80.jpg', '81.jpg', '83.jpg', '82.jpg', '85.jpg', '86.jpg', '84.jpg', '87.jpg', '89.jpg', '88.jpg', '91.jpg', '90.jpg', '93.jpg', '92.jpg', '96.jpg', '94.jpg', '95.jpg', '97.jpg', '98.jpg', '101.jpg', '99.jpg', '100.jpg', '104.jpg', '102.jpg', '103.jpg', '106.jpg', '105.jpg', '107.jpg', '108.jpg', '109.jpg', '112.jpg', '111.jpg', '110.jpg', '114.jpg', '115.jpg', '113.jpg', '116.jpg', '118.jpg', '117.jpg', '119.jpg', '120.jpg', '122.jpg', '121.jpg', '123.jpg', '124.jpg', '125.jpg', '127.jpg', '126.jpg', '129.jpg', '128.jpg', '130.jpg', '132.jpg', '131.jpg', '133.jpg', '135.jpg', '136.jpg', '134.jpg', '138.jpg', '137.jpg', '140.jpg', '139.jpg', '141.jpg', '144.jpg', '145.jpg', '142.jpg', '143.jpg', '147.jpg', '146.jpg', '149.jpg', '148.jpg', '152.jpg', '150.jpg', '151.jpg', '154.jpg', '153.jpg', '155.jpg', '158.jpg', '157.jpg', '159.jpg', '156.jpg']\n"
          ]
        }
      ]
    },
    {
      "cell_type": "markdown",
      "source": [
        "##**1.LOADING THE IMAGES FROM THE DATASET**"
      ],
      "metadata": {
        "id": "zxP5nQYRO2Ve"
      }
    },
    {
      "cell_type": "code",
      "source": [
        "#image=imread(path)\n",
        "gray_image=rgb2gray(image)\n",
        "#non dovrebbe essere necessario in realtà\n",
        "#gray_image=resize(gray_image,image_size)"
      ],
      "metadata": {
        "colab": {
          "base_uri": "https://localhost:8080/",
          "height": 201
        },
        "id": "LY8G_nEbO2CJ",
        "outputId": "140e475a-2ac1-460e-c80f-39e53c4b6dd3"
      },
      "execution_count": null,
      "outputs": [
        {
          "output_type": "error",
          "ename": "NameError",
          "evalue": "name 'image' is not defined",
          "traceback": [
            "\u001b[0;31m---------------------------------------------------------------------------\u001b[0m",
            "\u001b[0;31mNameError\u001b[0m                                 Traceback (most recent call last)",
            "\u001b[0;32m<ipython-input-54-436c1fc50b11>\u001b[0m in \u001b[0;36m<cell line: 0>\u001b[0;34m()\u001b[0m\n\u001b[1;32m      1\u001b[0m \u001b[0;31m#image=imread(path)\u001b[0m\u001b[0;34m\u001b[0m\u001b[0;34m\u001b[0m\u001b[0m\n\u001b[0;32m----> 2\u001b[0;31m \u001b[0mgray_image\u001b[0m\u001b[0;34m=\u001b[0m\u001b[0mrgb2gray\u001b[0m\u001b[0;34m(\u001b[0m\u001b[0mimage\u001b[0m\u001b[0;34m)\u001b[0m\u001b[0;34m\u001b[0m\u001b[0;34m\u001b[0m\u001b[0m\n\u001b[0m\u001b[1;32m      3\u001b[0m \u001b[0;31m#non dovrebbe essere necessario in realtà\u001b[0m\u001b[0;34m\u001b[0m\u001b[0;34m\u001b[0m\u001b[0m\n\u001b[1;32m      4\u001b[0m \u001b[0;31m#gray_image=resize(gray_image,image_size)\u001b[0m\u001b[0;34m\u001b[0m\u001b[0;34m\u001b[0m\u001b[0m\n",
            "\u001b[0;31mNameError\u001b[0m: name 'image' is not defined"
          ]
        }
      ]
    },
    {
      "cell_type": "markdown",
      "source": [
        "#**LBP**\n",
        "https://scikit-image.org/docs/stable/api/skimage.feature.html#skimage.feature.local_binary_pattern"
      ],
      "metadata": {
        "id": "oPynl7IiTqh8"
      }
    }
  ]
}